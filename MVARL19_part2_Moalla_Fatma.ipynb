{
  "nbformat": 4,
  "nbformat_minor": 0,
  "metadata": {
    "colab": {
      "name": "MVARL19_part2_Moalla_Fatma.ipynb",
      "provenance": [],
      "collapsed_sections": []
    },
    "kernelspec": {
      "name": "python3",
      "display_name": "Python 3"
    }
  },
  "cells": [
    {
      "cell_type": "markdown",
      "metadata": {
        "id": "XJ_s4_nhhiyo",
        "colab_type": "text"
      },
      "source": [
        "# Reinforcement Learning with Function Approximation"
      ]
    },
    {
      "cell_type": "code",
      "metadata": {
        "id": "WTOWkpoCiLmL",
        "colab_type": "code",
        "colab": {}
      },
      "source": [
        "!pip install torch==1.2.0 torchvision pyvirtualdisplay matplotlib seaborn pandas numpy pathlib gym\n",
        "!sudo apt-get install xvfb\n",
        "!git clone https://github.com/rlgammazero/mvarl_hands_on.git > /dev/null 2>&1\n",
        "!cd mvarl_hands_on && git pull origin master > /dev/null 2>&1"
      ],
      "execution_count": 0,
      "outputs": []
    },
    {
      "cell_type": "code",
      "metadata": {
        "id": "_3djWxKNFT9V",
        "colab_type": "code",
        "colab": {}
      },
      "source": [
        "! pip install xdpyinfo"
      ],
      "execution_count": 0,
      "outputs": []
    },
    {
      "cell_type": "code",
      "metadata": {
        "id": "gCsyvh4NhjUc",
        "colab_type": "code",
        "colab": {}
      },
      "source": [
        "import torch\n",
        "import torch.nn as nn\n",
        "import torch.nn.functional as F \n",
        "from torch import optim\n",
        "import pandas as pd\n",
        "import numpy as np\n",
        "from pathlib import Path\n",
        "import gym\n",
        "from gym.wrappers import Monitor\n",
        "from pprint import pprint\n",
        "from pyvirtualdisplay import Display\n",
        "from IPython import display as ipythondisplay\n",
        "from IPython.display import clear_output\n",
        "import base64\n",
        "# The following code is will be used to visualize the environments.\n",
        "\n",
        "def show_video(directory):\n",
        "    html = []\n",
        "    for mp4 in Path(directory).glob(\"*.mp4\"):\n",
        "        video_b64 = base64.b64encode(mp4.read_bytes())\n",
        "        html.append('''<video alt=\"{}\" autoplay \n",
        "                      loop controls style=\"height: 400px;\">\n",
        "                      <source src=\"data:video/mp4;base64,{}\" type=\"video/mp4\" />\n",
        "                 </video>'''.format(mp4, video_b64.decode('ascii')))\n",
        "    ipythondisplay.display(ipythondisplay.HTML(data=\"<br>\".join(html)))\n",
        "    \n",
        "display = Display(visible=0, size=(1400, 900))\n",
        "display.start();\n",
        "\n",
        "def make_seed(seed):\n",
        "    np.random.seed(seed=seed)\n",
        "    torch.manual_seed(seed=seed)"
      ],
      "execution_count": 0,
      "outputs": []
    },
    {
      "cell_type": "markdown",
      "metadata": {
        "id": "ThnSNaSMhnXa",
        "colab_type": "text"
      },
      "source": [
        "PyTorch is a Python package that provides two high-level features:\n",
        "- Tensor computation (like NumPy) with strong GPU acceleration\n",
        "- Deep neural networks built on a tape-based autograd system\n",
        "\n",
        "At a granular level, PyTorch is a library that consists of the following components:\n",
        "\n",
        "| Component | Description |\n",
        "| ---- | --- |\n",
        "| [**torch**](https://pytorch.org/docs/stable/torch.html) | a Tensor library like NumPy, with strong GPU support |\n",
        "| [**torch.autograd**](https://pytorch.org/docs/stable/autograd.html) | a tape-based automatic differentiation library that supports all differentiable Tensor operations in torch |\n",
        "| [**torch.jit**](https://pytorch.org/docs/stable/jit.html) | a compilation stack (TorchScript) to create serializable and optimizable models from PyTorch code  |\n",
        "| [**torch.nn**](https://pytorch.org/docs/stable/nn.html) | a neural networks library deeply integrated with autograd designed for maximum flexibility |\n",
        "| [**torch.multiprocessing**](https://pytorch.org/docs/stable/multiprocessing.html) | Python multiprocessing, but with magical memory sharing of torch Tensors across processes. Useful for data loading and Hogwild training |\n",
        "| [**torch.utils**](https://pytorch.org/docs/stable/data.html) | DataLoader and other utility functions for convenience |\n",
        "\n",
        "\n",
        "**Tutorials on PyTorch:** https://pytorch.org/tutorials/\n"
      ]
    },
    {
      "cell_type": "markdown",
      "metadata": {
        "id": "WlZQl9TjhuWY",
        "colab_type": "text"
      },
      "source": [
        "## OpenAI gym\n",
        "We will consider environments provided by OpenAI gym\n",
        "This library provides a large number of environments to test RL algorithm.\n",
        "\n",
        "We will focus on the **CartPole-v1** environment in this lab but we encourage you to also test your code on:\n",
        "* **Acrobot-v1**\n",
        "* **MountainCar-v0**\n",
        "\n",
        "| Env Info          \t| CartPole-v1 \t| Acrobot-v1                \t| MountainCar-v0 \t|\n",
        "|-------------------\t|-------------\t|---------------------------\t|----------------\t|\n",
        "| **Observation Space** \t| Box(4)      \t| Box(6)                    \t| Box(2)         \t|\n",
        "| **Action Space**      \t| Discrete(2) \t| Discrete(3)               \t| Discrete(3)    \t|\n",
        "| **Rewards**           \t| 1 per step  \t| -1 if not terminal else 0 \t| -1 per step    \t|\n",
        "\n",
        "A gym environment is loaded with the command `env = gym.make(env_id)`. Once the environment is created, you need to reset it with `observation = env.reset()` and then you can interact with it using the method step: `observation, reward, done, info = env.step(action)`."
      ]
    },
    {
      "cell_type": "code",
      "metadata": {
        "id": "3wfHvW9Hh4H3",
        "colab_type": "code",
        "colab": {}
      },
      "source": [
        "# We load CartPole-v1\n",
        "env = gym.make('CartPole-v1')\n",
        "# We wrap it in order to save our experiment on a file.\n",
        "env = Monitor(env, \"./gym-results\", force=True)"
      ],
      "execution_count": 0,
      "outputs": []
    },
    {
      "cell_type": "code",
      "metadata": {
        "id": "2-fFj5sDiA0C",
        "colab_type": "code",
        "colab": {}
      },
      "source": [
        "done = False\n",
        "obs = env.reset()\n",
        "while not done:\n",
        "    action = env.action_space.sample()\n",
        "    obs, reward, done, info = env.step(action)\n",
        "env.close()\n",
        "show_video(\"./gym-results\")"
      ],
      "execution_count": 0,
      "outputs": []
    },
    {
      "cell_type": "markdown",
      "metadata": {
        "id": "sd2xLlapilZE",
        "colab_type": "text"
      },
      "source": [
        "## REINFORCE\n",
        "\n",
        "**Q1: Implement the REINFORCE algorithm**\n",
        "\n",
        "The code is splitted in two parts:\n",
        "* The Model class defines the architecture of our neural network which takes as input the current state and returns the policy,\n",
        "* The Agent class is responsible for the training and evaluation procedure. You will need to code the method `optimize_model`."
      ]
    },
    {
      "cell_type": "code",
      "metadata": {
        "id": "iwsQ8NSPiCz7",
        "colab_type": "code",
        "colab": {}
      },
      "source": [
        "class Model(nn.Module):\n",
        "    def __init__(self, dim_observation, n_actions):\n",
        "        super(Model, self).__init__()\n",
        "        \n",
        "        self.n_actions = n_actions\n",
        "        self.dim_observation = dim_observation\n",
        "        \n",
        "        self.net = nn.Sequential(\n",
        "            nn.Linear(in_features=self.dim_observation, out_features=16),\n",
        "            nn.ReLU(),\n",
        "            nn.Linear(in_features=16, out_features=8),\n",
        "            nn.ReLU(),\n",
        "            nn.Linear(in_features=8, out_features=self.n_actions),\n",
        "            nn.Softmax(dim=0)\n",
        "        )\n",
        "        \n",
        "    def forward(self, state):\n",
        "        return self.net(state)\n",
        "    \n",
        "    def select_action(self, state):\n",
        "        action = torch.multinomial(self.forward(state), 1)\n",
        "        return action"
      ],
      "execution_count": 0,
      "outputs": []
    },
    {
      "cell_type": "markdown",
      "metadata": {
        "id": "xrgtQMYbiwX7",
        "colab_type": "text"
      },
      "source": [
        "Create the model based on the properties of the MDP you want to solve"
      ]
    },
    {
      "cell_type": "code",
      "metadata": {
        "id": "S6ieL_KJirq9",
        "colab_type": "code",
        "colab": {}
      },
      "source": [
        "env_id = 'CartPole-v1'\n",
        "env = gym.make(env_id)\n",
        "model = Model(env.observation_space.shape[0], env.action_space.n)\n",
        "print(f'The model we created correspond to:\\n{model}')"
      ],
      "execution_count": 0,
      "outputs": []
    },
    {
      "cell_type": "markdown",
      "metadata": {
        "id": "WwrVF9kti1e-",
        "colab_type": "text"
      },
      "source": [
        "We provide a base agent that you will need to extend in the next cell with your implementation of `optimize_model`."
      ]
    },
    {
      "cell_type": "code",
      "metadata": {
        "id": "DWvKO66ii1zh",
        "colab_type": "code",
        "colab": {}
      },
      "source": [
        "import itertools\n",
        "import seaborn as sns\n",
        "class BaseAgent:\n",
        "    \n",
        "    def __init__(self, config):\n",
        "        self.config = config\n",
        "        self.env = gym.make(config['env_id'])\n",
        "        make_seed(config['seed'])\n",
        "        self.env.seed(config['seed'])\n",
        "        self.model = Model(self.env.observation_space.shape[0], self.env.action_space.n)\n",
        "        self.gamma = config['gamma']\n",
        "        \n",
        "        # the optimizer used by PyTorch (Stochastic Gradient, Adagrad, Adam, etc.)\n",
        "        self.optimizer = torch.optim.Adam(self.model.net.parameters(), lr=config['learning_rate'])\n",
        "        self.monitor_env = Monitor(env, \"./gym-results\", force=True, video_callable=lambda episode: True)\n",
        "    \n",
        "    # Method to implement\n",
        "    def _compute_returns(self, rewards):\n",
        "        \"\"\"Returns the cumulative discounted rewards at each time step\n",
        "\n",
        "        Parameters\n",
        "        ----------\n",
        "        rewards : array\n",
        "            The array of rewards of one episode\n",
        "\n",
        "        Returns\n",
        "        -------\n",
        "        array\n",
        "            The cumulative discounted rewards at each time step\n",
        "            \n",
        "        Example\n",
        "        -------\n",
        "        for rewards=[1, 2, 3] this method outputs [1 + 2 * gamma + 3 * gamma**2, 2 + 3 * gamma, 3] \n",
        "        \"\"\"\n",
        "        n=len(rewards)\n",
        "        \n",
        "        for i in range(n):\n",
        "            for j in range(i,n):\n",
        "                rewards[i] += rewards[j] * gamma**(j-i)\n",
        "        return rewards\n",
        "\n",
        "    \n",
        "    # Method to implement\n",
        "    def optimize_model(self, n_trajectories):\n",
        "        \"\"\"Perform a gradient update using n_trajectories\n",
        "\n",
        "        Parameters\n",
        "        ----------\n",
        "        n_trajectories : int\n",
        "            The number of trajectories used to approximate the expectation card(D) in the formula above\n",
        "        \n",
        "        Returns\n",
        "        -------\n",
        "        array\n",
        "            The cumulative discounted rewards of each trajectory\n",
        "        \"\"\"\n",
        "\n",
        "        reward_trajectories = []\n",
        "        loss = 0\n",
        "        tensor=lambda x : torch.tensor(x,dtype=torch.float)\n",
        "        for i in range(n_trajectories):\n",
        "          rewards=[]\n",
        "          actions=[]\n",
        "          states=[]\n",
        "          done=False\n",
        "          s=tensor(self.env.resnet())\n",
        "\n",
        "          while not(done):\n",
        "            states.append(s)\n",
        "            a=self.model.select_action(s).item()\n",
        "            actions.append(a)\n",
        "            s,r,done,_=self.env.step(a)\n",
        "            s= tensor(s)\n",
        "            rewards.append(r)\n",
        "\n",
        "          returns=self._compute_returns(np.array(rewards))\n",
        "          reward_trajectories.append(returns[0])\n",
        "\n",
        "          loss += np.sum([returns[t]*torch.log(self.model.forward(states[t])[actions[t]]) for t in range(len(states))]) \n",
        "        \n",
        "        loss=-1.*loss/ n_trajectories\n",
        "        reward_trajectories=np.array(reward_trajectories)\n",
        "\n",
        "        # The following lines take care of the gradient descent step for the variable loss\n",
        "        # that you need to compute.\n",
        "        \n",
        "        # Discard previous gradients\n",
        "        self.optimizer.zero_grad()\n",
        "        # Compute the gradient \n",
        "        loss.backward()\n",
        "        # Do the gradient descent step\n",
        "        self.optimizer.step()\n",
        "        return reward_trajectories\n",
        "\n",
        "\n",
        "    \n",
        "    def train(self, n_trajectories, n_update):\n",
        "        \"\"\"Training method\n",
        "\n",
        "        Parameters\n",
        "        ----------\n",
        "        n_trajectories : int\n",
        "            The number of trajectories used to approximate the expected gradient\n",
        "        n_update : int\n",
        "            The number of gradient updates\n",
        "            \n",
        "        \"\"\"\n",
        "        \n",
        "        rewards = []\n",
        "        for episode in range(n_update):\n",
        "            rewards.append(self.optimize_model(n_trajectories))\n",
        "            print(f'Episode {episode + 1}/{n_update}: rewards {round(rewards[-1].mean(), 2)} +/- {round(rewards[-1].std(), 2)}')\n",
        "        \n",
        "        # Plotting\n",
        "        r = pd.DataFrame((itertools.chain(*(itertools.product([i], rewards[i]) for i in range(len(rewards))))), columns=['Epoch', 'Reward'])\n",
        "        sns.lineplot(x=\"Epoch\", y=\"Reward\", data=r, ci='sd');\n",
        "        \n",
        "    def evaluate(self, render=False):\n",
        "        \"\"\"Evaluate the agent on a single trajectory            \n",
        "        \"\"\"\n",
        "        with torch.no_grad():\n",
        "            observation = self.monitor_env.reset()\n",
        "            observation = torch.tensor(observation, dtype=torch.float)\n",
        "            reward_episode = 0\n",
        "            done = False\n",
        "                \n",
        "            while not done:\n",
        "                action = self.model.select_action(observation)\n",
        "                observation, reward, done, info = self.monitor_env.step(int(action))\n",
        "                observation = torch.tensor(observation, dtype=torch.float)\n",
        "                reward_episode += reward\n",
        "            \n",
        "            self.monitor_env.close()\n",
        "            if render:\n",
        "                show_video(\"./gym-results\")\n",
        "                print(f'Reward: {reward_episode}')\n",
        "            print(f'Reward: {reward_episode}')"
      ],
      "execution_count": 0,
      "outputs": []
    },
    {
      "cell_type": "markdown",
      "metadata": {
        "id": "Y6mhw_A3i_8R",
        "colab_type": "text"
      },
      "source": [
        "Finally you can implement your agent"
      ]
    },
    {
      "cell_type": "code",
      "metadata": {
        "id": "lbjP-7WHi9oc",
        "colab_type": "code",
        "colab": {}
      },
      "source": [
        "class REINFORCE(BaseAgent):\n",
        "    \n",
        "    def _compute_returns(self, rewards):\n",
        "        n=len(rewards)\n",
        "      \n",
        "        for i in range(n):\n",
        "            for j in range(i,n):\n",
        "                rewards[i] += rewards[j] * gamma**(j-i)\n",
        "        return rewards\n",
        "    \n",
        "        \n",
        "    def optimize_model(self, n_trajectories):\n",
        "        ###\n",
        "        # Your code here\n",
        "        ###\n",
        "        \n",
        "        reward_trajectories = []\n",
        "        loss = 0\n",
        "        tensor=lambda x : torch.tensor(x,dtype=torch.float)\n",
        "        for i in range(n_trajectories):\n",
        "          rewards=[]\n",
        "          actions=[]\n",
        "          states=[]\n",
        "          done=False\n",
        "          s=tensor(self.env.reset())\n",
        "\n",
        "          while not(done):\n",
        "            states.append(s)\n",
        "            a=self.model.select_action(s).item()\n",
        "            actions.append(a)\n",
        "            s,r,done,_=self.env.step(a)\n",
        "            s= tensor(s)\n",
        "            rewards.append(r)\n",
        "\n",
        "          returns=self._compute_returns(np.array(rewards))\n",
        "          reward_trajectories.append(returns[0])\n",
        "\n",
        "          loss += np.sum([returns[t]*torch.log(self.model.forward(states[t])[actions[t]]) for t in range(len(states))]) \n",
        "        \n",
        "        loss=-1.*loss/ n_trajectories\n",
        "        reward_trajectories=np.array(reward_trajectories)\n",
        "\n",
        "        # The following lines take care of the gradient descent step for the variable loss\n",
        "        # that you need to compute.\n",
        "        \n",
        "        # Discard previous gradients\n",
        "        self.optimizer.zero_grad()\n",
        "        # Compute the gradient \n",
        "        loss.backward()\n",
        "        # Do the gradient descent step\n",
        "        self.optimizer.step()\n",
        "        return reward_trajectories\n",
        "    "
      ],
      "execution_count": 0,
      "outputs": []
    },
    {
      "cell_type": "code",
      "metadata": {
        "id": "vZAo0K8VjCYj",
        "colab_type": "code",
        "colab": {}
      },
      "source": [
        "env_id = 'CartPole-v1'\n",
        "learning_rate = 0.01\n",
        "gamma = 1 \n",
        "seed = 1235\n",
        "\n",
        "config = {\n",
        "    'env_id': env_id,\n",
        "    'learning_rate': learning_rate,\n",
        "    'seed': seed,\n",
        "    'gamma': gamma\n",
        "}\n",
        "\n",
        "print(\"Current config is:\")\n",
        "pprint(config)\n"
      ],
      "execution_count": 0,
      "outputs": []
    },
    {
      "cell_type": "code",
      "metadata": {
        "id": "D4Ag7E3qjJas",
        "colab_type": "code",
        "colab": {}
      },
      "source": [
        "agent = REINFORCE(config)\n"
      ],
      "execution_count": 0,
      "outputs": []
    },
    {
      "cell_type": "code",
      "metadata": {
        "id": "Te0ficKU3jsr",
        "colab_type": "code",
        "colab": {}
      },
      "source": [
        "agent.train(n_trajectories=50, n_update=50)"
      ],
      "execution_count": 0,
      "outputs": []
    },
    {
      "cell_type": "markdown",
      "metadata": {
        "id": "q3_dvBl8jUc3",
        "colab_type": "text"
      },
      "source": [
        "Evaluate the agent over multiple episodes"
      ]
    },
    {
      "cell_type": "code",
      "metadata": {
        "id": "aPyqbIiCjO_-",
        "colab_type": "code",
        "colab": {}
      },
      "source": [
        "agent.evaluate()"
      ],
      "execution_count": 0,
      "outputs": []
    },
    {
      "cell_type": "markdown",
      "metadata": {
        "id": "LHM2_CRFkNoA",
        "colab_type": "text"
      },
      "source": [
        "## Policy Evaluation as Supervised Learning\n",
        "\n",
        "**Q2: Implement batched gradient algorithm**\n",
        "\n",
        "Define network for Q-function (ValueNetwork) and policy (ActorNetwork)\n"
      ]
    },
    {
      "cell_type": "code",
      "metadata": {
        "id": "W9sxcz_eKF1M",
        "colab_type": "code",
        "colab": {}
      },
      "source": [
        "class ValueNetwork(nn.Module):\n",
        "\n",
        "    def __init__(self, input_size, hidden_size, output_size):\n",
        "        super(ValueNetwork, self).__init__()\n",
        "        self.fc1 = nn.Linear(input_size, hidden_size)\n",
        "        self.fc2 = nn.Linear(hidden_size, hidden_size)\n",
        "        self.fc3 = nn.Linear(hidden_size, output_size)\n",
        "\n",
        "    def forward(self, x):\n",
        "        out = F.relu(self.fc1(x))\n",
        "        out = F.relu(self.fc2(out))\n",
        "        out = self.fc3(out)\n",
        "        return out\n",
        "    \n",
        "    def predict(self, x):\n",
        "        return self(x).detach().numpy()[0]"
      ],
      "execution_count": 0,
      "outputs": []
    },
    {
      "cell_type": "code",
      "metadata": {
        "id": "1GKxKzs5khxM",
        "colab_type": "code",
        "colab": {}
      },
      "source": [
        "class ActorNetwork(nn.Module):\n",
        "\n",
        "    def __init__(self, input_size, hidden_size, action_size):\n",
        "        super(ActorNetwork, self).__init__()\n",
        "        self.fc1 = nn.Linear(input_size, hidden_size)\n",
        "        self.fc2 = nn.Linear(hidden_size, hidden_size)\n",
        "        self.fc3 = nn.Linear(hidden_size, action_size)\n",
        "\n",
        "    def forward(self, x):\n",
        "        out = F.relu(self.fc1(x))\n",
        "        out = F.relu(self.fc2(out))\n",
        "        out = F.softmax(self.fc3(out), dim=-1)\n",
        "        return out\n",
        "    \n",
        "    def select_action(self, x):\n",
        "        return torch.multinomial(self(x), 1).detach().numpy()"
      ],
      "execution_count": 0,
      "outputs": []
    },
    {
      "cell_type": "markdown",
      "metadata": {
        "id": "aBpNVkaAKLQz",
        "colab_type": "text"
      },
      "source": [
        "Implement your (batched) gradient algorithm\n",
        "\n"
      ]
    },
    {
      "cell_type": "code",
      "metadata": {
        "id": "QQ4Wu5B5KIIO",
        "colab_type": "code",
        "colab": {}
      },
      "source": [
        "import math\n",
        "class EvalAgent:\n",
        "\n",
        "    def __init__(self, config, policy):\n",
        "        self.config = config\n",
        "        self.env = gym.make(config['env_id'])\n",
        "        make_seed(config['seed'])\n",
        "        self.env.seed(config['seed'])\n",
        "        self.monitor_env = Monitor(self.env, \"./gym-results\", force=True, video_callable=lambda episode: True)\n",
        "        self.gamma = config['gamma']\n",
        "        self.policy = policy\n",
        "\n",
        "        # Our network\n",
        "        self.value_network = ValueNetwork(self.env.observation_space.shape[0], 16, 1)\n",
        "\n",
        "        # optimizers\n",
        "        self.value_network_optimizer = optim.RMSprop(self.value_network.parameters(), \n",
        "                                                   lr=config['value_network']['learning_rate'])\n",
        "    \n",
        "    def _returns_advantages(self, rewards, dones, next_value):\n",
        "        \"\"\"Returns the cumulative discounted rewards at each time step\n",
        "\n",
        "        Parameters\n",
        "        ----------\n",
        "        rewards : array\n",
        "            An array of shape (batch_size,) containing the rewards given by the env\n",
        "        dones : array\n",
        "            An array of shape (batch_size,) containing the done bool indicator given by the env\n",
        "        next_value : float\n",
        "            The value of the next state given by the value network\n",
        "\n",
        "        Returns\n",
        "        -------\n",
        "        returns : array\n",
        "            The cumulative discounted rewards\n",
        "        \"\"\"\n",
        "        batch_size=rewards.shape[0]\n",
        "        cum_rewards=np.zeros(rewards.size)\n",
        "\n",
        "        for i in range(batch_size):\n",
        "          j = 0 \n",
        "          while i + j < batch_size and not dones[i + j]:\n",
        "            cum_rewards[i] += rewards[i + j] * self.gamma**j\n",
        "            j += 1\n",
        "          if i + j == batch_size and not dones[-1]:\n",
        "            cum_rewards[i] += next_value*self.gamma**j\n",
        "\n",
        "        return cum_rewards\n",
        "        ### terminal state array\n",
        "        T=np.where(dones==1)[0]\n",
        "\n",
        "        if T.size > 0:\n",
        "          phase=0\n",
        "          for i in range(T[-1]+1):\n",
        "            if dones[i]:\n",
        "              cum_rewards[i]=1\n",
        "              phase += 1\n",
        "\n",
        "            else: \n",
        "              for t in range(i,T[phase]+1):\n",
        "                cum_rewards[i] += rewards[t] * gamma**(t-i)\n",
        "\n",
        "          for i in range(T[-1]+1,cum_rewards.size):\n",
        "            for t in range(i,cum_rewards.size):\n",
        "                cum_rewards[i] += rewards[t] * gamma**(t-i)\n",
        "            cum_rewards[i] += next_value * gamma **(cum_rewards.size -i)\n",
        "\n",
        "\n",
        "        else:\n",
        "\n",
        "          for i in range(rewards.size):\n",
        "            for t in range(i,rewards.size):\n",
        "                cum_rewards[i] += rewards[t] * gamma**(t-i)\n",
        "            cum_rewards[i]+= next_value * gamma **(rewards.size)\n",
        "\n",
        "        return cum_rewards\n",
        "    \n",
        "    def optimize_model(self, observations, actions, returns):\n",
        "        \"\"\"Perform a gradient update using provided transitions\n",
        "\n",
        "        Parameters\n",
        "        ----------\n",
        "        observations : array\n",
        "            The observations\n",
        "        actions : array\n",
        "            The actions\n",
        "        returns : array\n",
        "            The returns from each state\n",
        "\n",
        "        Returns\n",
        "        -------\n",
        "        loss_value: int\n",
        "            The loss value\n",
        "        \"\"\"\n",
        "        actions = torch.tensor(actions,dtype=torch.float)\n",
        "        returns = torch.tensor(returns[:, None], dtype=torch.float)\n",
        "        observations = torch.tensor(observations, dtype=torch.float)\n",
        "\n",
        "        # MSE for the values\n",
        "  \n",
        "        values = self.value_network.forward(observations)\n",
        "\n",
        "        loss_mse = F.mse_loss(values, returns) \n",
        "\n",
        "            # all losses\n",
        "\n",
        "        self.value_network_optimizer.zero_grad()\n",
        "        # Compute the gradient \n",
        "        loss_mse.backward()\n",
        "        # Do the gradient descent step\n",
        "        self.value_network_optimizer.step()\n",
        "        \n",
        "        return loss_mse\n",
        "\n",
        "    \n",
        "    def training_batch(self, epochs, batch_size):\n",
        "        \"\"\"Perform a training by batch\n",
        "\n",
        "        Parameters\n",
        "        ----------\n",
        "        epochs : int\n",
        "            Number of epochs\n",
        "        batch_size : int\n",
        "            The size of a batch\n",
        "        \"\"\"\n",
        "        episode_count = 0\n",
        "        actions =np.empty((batch_size,), dtype=np.int)\n",
        "        dones = np.empty((batch_size,), dtype=np.bool)\n",
        "        rewards, values = np.empty((2, batch_size), dtype=np.float)\n",
        "        observations = torch.empty((batch_size,) + self.env.observation_space.shape, dtype=torch.float)\n",
        "        observation = self.env.reset()\n",
        "        mse_test = []\n",
        "    \n",
        "        for epoch in range(epochs):\n",
        "       \n",
        "            # Lets collect one batch\n",
        "            for i in range(batch_size):\n",
        "                observations[i] = torch.tensor(observation,dtype=torch.float)\n",
        "                values[i] = self.value_network(observations[i]) \n",
        "                actions[i] =self.policy.select_action(observations[i])\n",
        "                # step\n",
        "                observation, reward, done, _= self.env.step(int(actions[i]))\n",
        "\n",
        "                rewards[i]=torch.tensor(reward,dtype=torch.float)\n",
        "                dones[i]= torch.tensor(done,dtype=torch.float)\n",
        "\n",
        "                if dones[i]:\n",
        "                    observation = self.env.reset()\n",
        "              \n",
        "        \n",
        "\n",
        "            # If our epiosde didn't end on the last step we need to compute the value for the last state\n",
        "            if dones[-1]:\n",
        "                next_value = 0\n",
        "            else:\n",
        "                observation=torch.from_numpy(observation).float()\n",
        "                next_value = self.value_network(observation).item()\n",
        "\n",
        "            # Update episode_count\n",
        "            episode_count += sum(dones)\n",
        "\n",
        "            # Compute returns\n",
        "            returns = self._returns_advantages(rewards, dones, next_value)\n",
        "            # Learning step !\n",
        "            self.optimize_model(observations, actions, returns)\n",
        "            # Test it every 50 epochs\n",
        "            if epoch % 25 == 0 or epoch == epochs - 1:\n",
        "                L = []\n",
        "                for j in range(10):\n",
        "                    obs_states, y_mc = self.evaluate()\n",
        "                    y_hat = self.value_network.predict(torch.tensor(obs_states, dtype=torch.float)) \n",
        "                    err = y_mc - y_hat\n",
        "                    mse = np.mean(err**2)\n",
        "                    L.append(mse.item())\n",
        "                mse_test.append(L)\n",
        "                print(f'Epoch {epoch}/{epochs}: MSE: {np.mean(mse)}')\n",
        "\n",
        "                observation = self.env.reset()\n",
        "\n",
        "        # Plotting\n",
        "        r = pd.DataFrame((itertools.chain(*(itertools.product([i], mse_test[i]) for i in range(len(mse_test))))), columns=['Epoch', 'MSE'])\n",
        "        sns.lineplot(x=\"Epoch\", y=\"MSE\", data=r, ci='sd');\n",
        "\n",
        "        print(f'The trainnig was done over a total of {episode_count} episodes')\n",
        "\n",
        "    def evaluate(self, render=False):\n",
        "        \"\"\"Returns the observations and the estimated V-function (using first visit Monte-Carlo)\n",
        "\n",
        "        Parameters\n",
        "        ----------\n",
        "        rewards : array\n",
        "            An array of shape (batch_size,) containing the rewards given by the env\n",
        "        dones : array\n",
        "            An array of shape (batch_size,) containing the done bool indicator given by the env\n",
        "        values : array\n",
        "            An array of shape (batch_size,) containing the values given by the value network\n",
        "        next_value : float\n",
        "            The value of the next state given by the value network\n",
        "\n",
        "        Returns\n",
        "        -------\n",
        "        states : array\n",
        "            Observations\n",
        "        returns : array\n",
        "            The estimate value function of each state\n",
        "        \"\"\"\n",
        "        env = self.monitor_env if render else self.env\n",
        "        observation = env.reset()\n",
        "        states = [observation.copy()]\n",
        "        rewards= []\n",
        "        observation = torch.tensor(observation, dtype=torch.float)\n",
        "        done = False\n",
        "        steps = 0\n",
        "\n",
        "        while not done:\n",
        "            action = self.policy.select_action(observation)\n",
        "            observation, reward, done, info = env.step(int(action))\n",
        "            for i in range(steps):\n",
        "                rewards[i] = rewards[i] + math.pow(self.gamma, steps-i)*reward\n",
        "            rewards.append(reward)\n",
        "            if not done:\n",
        "                states.append(observation.copy())\n",
        "            observation = torch.tensor(observation, dtype=torch.float)\n",
        "            steps += 1\n",
        "\n",
        "        env.close()\n",
        "        if render:\n",
        "            show_video(\"./gym-results\")\n",
        "            print(f'Reward: {reward_episode}')\n",
        "        states = np.array(states).reshape(-1, self.env.observation_space.shape[0])\n",
        "        returns = np.array(rewards).reshape(-1,1)\n",
        "        return states, returns"
      ],
      "execution_count": 0,
      "outputs": []
    },
    {
      "cell_type": "markdown",
      "metadata": {
        "id": "IY1VIUHLNKn3",
        "colab_type": "text"
      },
      "source": [
        "Define configuration"
      ]
    },
    {
      "cell_type": "code",
      "metadata": {
        "id": "Fvc-7jXDNNkG",
        "colab_type": "code",
        "colab": {}
      },
      "source": [
        "env_id = 'CartPole-v1'\n",
        "value_learning_rate = 0.001\n",
        "gamma = 0.99\n",
        "seed = 1\n",
        "\n",
        "config_td = {\n",
        "    'env_id': env_id,\n",
        "    'gamma': gamma,\n",
        "    'seed': seed,\n",
        "    'value_network': {'learning_rate': value_learning_rate, 'reference': './CartPole_value.pt'}\n",
        "}\n",
        "\n",
        "print(\"Current config_td is:\")\n",
        "pprint(config_td)\n"
      ],
      "execution_count": 0,
      "outputs": []
    },
    {
      "cell_type": "markdown",
      "metadata": {
        "id": "d2lRnaF3NPyy",
        "colab_type": "text"
      },
      "source": [
        "Create policy"
      ]
    },
    {
      "cell_type": "code",
      "metadata": {
        "id": "NkbHK_lXNShg",
        "colab_type": "code",
        "colab": {}
      },
      "source": [
        "env = gym.make(config_td['env_id'])\n",
        "policy = ActorNetwork(env.observation_space.shape[0], 16, env.action_space.n)\n",
        "policy.load_state_dict(torch.load('./mvarl_hands_on/data/CartPole_actor.pt'))\n",
        "state = torch.tensor(np.array(env.reset(), dtype=np.float32))\n",
        "print(\"pi(state) = \", policy.select_action(state))\n",
        "del env"
      ],
      "execution_count": 0,
      "outputs": []
    },
    {
      "cell_type": "markdown",
      "metadata": {
        "id": "Y51M4EgtNU7Z",
        "colab_type": "text"
      },
      "source": [
        "Run agent"
      ]
    },
    {
      "cell_type": "code",
      "metadata": {
        "id": "4PFvnYLnNGvX",
        "colab_type": "code",
        "colab": {}
      },
      "source": [
        "agent = EvalAgent(config=config_td, policy=policy)\n",
        "print(agent)\n",
        "agent.training_batch(epochs=1000, batch_size=256)"
      ],
      "execution_count": 0,
      "outputs": []
    },
    {
      "cell_type": "markdown",
      "metadata": {
        "id": "03as0wkuja2A",
        "colab_type": "text"
      },
      "source": [
        "## Advantage Actor Critic (A2C)\n",
        "**Q3: Implement the A2C method**\n",
        "\n",
        "As usual we provide a structure you can use as starting point.\n",
        "\n",
        "\n",
        "\n",
        "**Note:** try to reuse previous parts of previous code.\n",
        "\n"
      ]
    },
    {
      "cell_type": "code",
      "metadata": {
        "id": "G4EmYpAsjhKh",
        "colab_type": "code",
        "colab": {}
      },
      "source": [
        "import itertools\n",
        "import seaborn as sns\n",
        "class A2CAgent:\n",
        "\n",
        "    def __init__(self, config):\n",
        "        self.config = config\n",
        "        self.env = gym.make(config['env_id'])\n",
        "        make_seed(config['seed'])\n",
        "        self.env.seed(config['seed'])\n",
        "        self.monitor_env = Monitor(self.env, \"./gym-results\", force=True, video_callable=lambda episode: True)\n",
        "        self.gamma = config['gamma']\n",
        "        \n",
        "        # Our two networks\n",
        "        self.value_network = ValueNetwork(self.env.observation_space.shape[0], 16, 1)\n",
        "        self.actor_network = ActorNetwork(self.env.observation_space.shape[0], 16, self.env.action_space.n)\n",
        "        \n",
        "        # Their optimizers\n",
        "        self.value_network_optimizer = optim.RMSprop(self.value_network.parameters(), lr=config['value_network']['learning_rate'])\n",
        "        self.actor_network_optimizer = optim.RMSprop(self.actor_network.parameters(), lr=config['actor_network']['learning_rate'])\n",
        "        \n",
        "    # Hint: use it during training_batch\n",
        "    def _returns_advantages(self, rewards, dones, values, next_value):\n",
        "        \"\"\"Returns the cumulative discounted rewards at each time step\n",
        "\n",
        "        Parameters\n",
        "        ----------\n",
        "        rewards : array\n",
        "            An array of shape (batch_size,) containing the rewards given by the env\n",
        "        dones : array\n",
        "            An array of shape (batch_size,) containing the done bool indicator given by the env\n",
        "        values : array\n",
        "            An array of shape (batch_size,) containing the values given by the value network\n",
        "        next_value : float\n",
        "            The value of the next state given by the value network\n",
        "        \n",
        "        Returns\n",
        "        -------\n",
        "        returns : array\n",
        "            The cumulative discounted rewards\n",
        "        advantages : array\n",
        "            The advantages\n",
        "        \"\"\"\n",
        "        batch_size=rewards.shape[0]\n",
        "        cum_rewards=np.zeros(rewards.size)\n",
        "\n",
        "        for i in range(batch_size):\n",
        "          j = 0 \n",
        "          while i + j < batch_size and not dones[i + j]:\n",
        "            cum_rewards[i] += rewards[i + j] * self.gamma**j\n",
        "            j += 1\n",
        "          if i + j == batch_size and not dones[-1]:\n",
        "            cum_rewards[i] += next_value*self.gamma**j\n",
        "        advantages = cum_rewards - values\n",
        "        return cum_rewards, advantages\n",
        "\n",
        "    def training_batch(self, epochs, batch_size):\n",
        "        \"\"\"Perform a training by batch\n",
        "\n",
        "        Parameters\n",
        "        ----------\n",
        "        epochs : int\n",
        "            Number of epochs\n",
        "        batch_size : int\n",
        "            The size of a batch\n",
        "        \"\"\"\n",
        "        episode_count = 0\n",
        "        actions = np.empty((batch_size,), dtype=np.int)\n",
        "        dones = np.empty((batch_size,), dtype=np.bool)\n",
        "        rewards, values = np.empty((2, batch_size), dtype=np.float)\n",
        "        observations = np.empty((batch_size,) + self.env.observation_space.shape, dtype=np.float)\n",
        "        observation = self.env.reset()\n",
        "        rewards_test = []\n",
        "\n",
        "        for epoch in range(epochs):\n",
        "\n",
        "\n",
        "          # Lets collect one batch\n",
        "            for i in range(batch_size):\n",
        "                observations[i] = torch.tensor(observation,dtype=torch.float)\n",
        "                values[i] = self.value_network(torch.tensor(observation,dtype=torch.float))\n",
        "                actions[i] =self.actor_network.select_action(torch.tensor(observation,dtype=torch.float))\n",
        "                # step\n",
        "                observation, reward, done, _= self.env.step(int(actions[i]))\n",
        "                rewards[i]=torch.tensor(reward,dtype=torch.float)\n",
        "                dones[i]= torch.tensor(done,dtype=torch.float)\n",
        "                if dones[i]:\n",
        "                    observation = self.env.reset()\n",
        "            # If our epiosde didn't end on the last step we need to compute the value for the last state\n",
        "            if dones[-1]:\n",
        "                next_value = 0\n",
        "            else:\n",
        "                observation=torch.from_numpy(observation).float()\n",
        "                next_value = self.value_network(observation).item()\n",
        "\n",
        "            # Lets collect one batch\n",
        "            \n",
        "            # If our epiosde didn't end on the last step we need to compute the value for the last state\n",
        "            \n",
        "            # Update episode_count\n",
        "            episode_count += sum(dones)\n",
        "\n",
        "            # Compute returns and advantages\n",
        "            returns, advantages =  self._returns_advantages(rewards, dones, values, next_value)\n",
        "            # Learning step !\n",
        "            self.optimize_model(observations, actions, returns,advantages)\n",
        "\n",
        "            # Test it every 50 epochs\n",
        "            if epoch % 50 == 0 or epoch == epochs - 1:\n",
        "                rewards_test.append(np.array([self.evaluate() for _ in range(50)]))\n",
        "                print(f'Epoch {epoch}/{epochs}: Mean rewards: {round(rewards_test[-1].mean(), 2)}, Std: {round(rewards_test[-1].std(), 2)}')\n",
        "\n",
        "                # Early stopping\n",
        "                if rewards_test[-1].mean() > 490 and epoch != epochs -1:\n",
        "                    print('Early stopping !')\n",
        "                    break\n",
        "                observation = self.env.reset()\n",
        "                    \n",
        "        # Plotting\n",
        "        r = pd.DataFrame((itertools.chain(*(itertools.product([i], rewards_test[i]) for i in range(len(rewards_test))))), columns=['Epoch', 'Reward'])\n",
        "        sns.lineplot(x=\"Epoch\", y=\"Reward\", data=r, ci='sd');\n",
        "        \n",
        "        print(f'The trainnig was done over a total of {episode_count} episodes')\n",
        "\n",
        "    def optimize_model(self, observations, actions, returns, advantages):\n",
        "        actions = torch.tensor(actions, dtype=int)\n",
        "        returns = torch.tensor(returns, dtype=torch.float)\n",
        "        advantages = torch.tensor(advantages, dtype=torch.float)\n",
        "        observations = torch.tensor(observations, dtype=torch.float)\n",
        "\n",
        "        # critic loss\n",
        "        values = self.value_network(observations)\n",
        "        mse_loss = F.mse_loss(values, returns) \n",
        "        self.value_network_optimizer.zero_grad()\n",
        "        mse_loss.backward()\n",
        "        self.value_network_optimizer.step()\n",
        "\n",
        "        # Actor loss\n",
        "        actor_loss=0\n",
        "        for k in range(len(observations)):\n",
        "            observation = observations[k]\n",
        "            action      = actions[k]\n",
        "            advantage   = advantages[k]\n",
        "            actor_loss  -= torch.log(self.actor_network(observation)[int(action)])* advantage\n",
        "\n",
        "        actor_loss /= len(observations)\n",
        "        self.actor_network_optimizer.zero_grad()\n",
        "        actor_loss.backward()\n",
        "        self.actor_network_optimizer.step()\n",
        "        loss = (mse_loss + actor_loss).mean()\n",
        "\n",
        "        return loss\n",
        "\n",
        "    def evaluate(self, render=False):\n",
        "        env = self.monitor_env if render else self.env\n",
        "        observation = env.reset()\n",
        "        observation = torch.tensor(observation, dtype=torch.float)\n",
        "        reward_episode = 0\n",
        "        done = False\n",
        "\n",
        "        while not done:\n",
        "            policy = self.actor_network(observation)\n",
        "            action = torch.multinomial(torch.tensor(policy, dtype=torch.float), 1)\n",
        "            observation, reward, done, info = env.step(int(action))\n",
        "            observation = torch.tensor(observation, dtype=torch.float)\n",
        "            reward_episode += reward\n",
        "            \n",
        "        env.close()\n",
        "        if render:\n",
        "            show_video(\"./gym-results\")\n",
        "            print(f'Reward: {reward_episode}')\n",
        "        return reward_episode"
      ],
      "execution_count": 0,
      "outputs": []
    },
    {
      "cell_type": "markdown",
      "metadata": {
        "id": "8sEwrInsjkDH",
        "colab_type": "text"
      },
      "source": [
        "Create configuration for A2C"
      ]
    },
    {
      "cell_type": "code",
      "metadata": {
        "id": "OwDDx78wjmG5",
        "colab_type": "code",
        "colab": {}
      },
      "source": [
        "env_id = 'CartPole-v1'\n",
        "value_learning_rate = 0.001\n",
        "actor_learning_rate = 0.001\n",
        "gamma = 0.99\n",
        "entropy = 1\n",
        "seed = 1\n",
        "\n",
        "config_a2c = {\n",
        "    'env_id': env_id,\n",
        "    'gamma': gamma,\n",
        "    'seed': seed,\n",
        "    'value_network': {'learning_rate': value_learning_rate},\n",
        "    'actor_network': {'learning_rate': actor_learning_rate},\n",
        "    'entropy': entropy\n",
        "}\n",
        "\n",
        "print(\"Current config_a2c is:\")\n",
        "print(config_a2c)"
      ],
      "execution_count": 0,
      "outputs": []
    },
    {
      "cell_type": "markdown",
      "metadata": {
        "id": "6xW7fe-8jvzY",
        "colab_type": "text"
      },
      "source": [
        "Run the learning agent"
      ]
    },
    {
      "cell_type": "code",
      "metadata": {
        "id": "UrZRJ7-yjryp",
        "colab_type": "code",
        "colab": {},
        "cellView": "form"
      },
      "source": [
        "#@title\n",
        "agent = A2CAgent(config_a2c)\n",
        "rewards = agent.training_batch(1000, 256)"
      ],
      "execution_count": 0,
      "outputs": []
    },
    {
      "cell_type": "markdown",
      "metadata": {
        "id": "NzuNtPqTju64",
        "colab_type": "text"
      },
      "source": [
        "Evaluate the agent over multiple episodes"
      ]
    },
    {
      "cell_type": "code",
      "metadata": {
        "id": "bw279M4Jj1y-",
        "colab_type": "code",
        "colab": {}
      },
      "source": [
        "agent.evaluate()"
      ],
      "execution_count": 0,
      "outputs": []
    },
    {
      "cell_type": "code",
      "metadata": {
        "id": "0GowsUb-z5e1",
        "colab_type": "code",
        "colab": {}
      },
      "source": [
        ""
      ],
      "execution_count": 0,
      "outputs": []
    }
  ]
}