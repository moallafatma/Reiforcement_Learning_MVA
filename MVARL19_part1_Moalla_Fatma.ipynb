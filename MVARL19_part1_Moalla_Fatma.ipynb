{
  "nbformat": 4,
  "nbformat_minor": 0,
  "metadata": {
    "colab": {
      "name": "MVARL19_part1_Moalla_Fatma.ipynb",
      "provenance": [],
      "private_outputs": true,
      "collapsed_sections": []
    },
    "kernelspec": {
      "display_name": "Python 3",
      "language": "python",
      "name": "python3"
    },
    "language_info": {
      "codemirror_mode": {
        "name": "ipython",
        "version": 3
      },
      "file_extension": ".py",
      "mimetype": "text/x-python",
      "name": "python",
      "nbconvert_exporter": "python",
      "pygments_lexer": "ipython3",
      "version": "3.7.3"
    }
  },
  "cells": [
    {
      "cell_type": "markdown",
      "metadata": {
        "colab_type": "text",
        "id": "4P3WM-hVOPfo"
      },
      "source": [
        "# Reinforcement Learning in Finite MDPs"
      ]
    },
    {
      "cell_type": "code",
      "metadata": {
        "colab_type": "code",
        "id": "E9_DLZvWQzhb",
        "colab": {}
      },
      "source": [
        "!git clone https://github.com/rlgammazero/mvarl_hands_on.git > /dev/null 2>&1"
      ],
      "execution_count": 0,
      "outputs": []
    },
    {
      "cell_type": "markdown",
      "metadata": {
        "colab_type": "text",
        "id": "wnzUJeyJOPfq"
      },
      "source": [
        "## MDPs"
      ]
    },
    {
      "cell_type": "code",
      "metadata": {
        "colab_type": "code",
        "id": "RcWJSw_uOPfr",
        "colab": {}
      },
      "source": [
        "import sys\n",
        "sys.path.insert(0, './mvarl_hands_on/utils')\n",
        "import numpy as np\n",
        "from scipy.special import softmax # for SARSA\n",
        "import matplotlib.pyplot as plt\n",
        "import json\n",
        "import math\n",
        "from cliffwalk import CliffWalk"
      ],
      "execution_count": 0,
      "outputs": []
    },
    {
      "cell_type": "markdown",
      "metadata": {
        "colab_type": "text",
        "id": "ym-B_4HaOPfu"
      },
      "source": [
        "Setting up the environment"
      ]
    },
    {
      "cell_type": "code",
      "metadata": {
        "colab_type": "code",
        "id": "rVR5qYoLOPfv",
        "colab": {}
      },
      "source": [
        "env = CliffWalk(proba_succ=0.98)\n",
        "#from test_env import ToyEnv1\n",
        "####################################################################################\n",
        "# You probably want to test smaller enviroments before\n",
        "#env = ToyEnv1(gamma=0.99)\n",
        "####################################################################################\n",
        "\n",
        "# Useful attributes\n",
        "print(\"Set of states:\", env.states)\n",
        "print(\"Set of actions:\", env.actions)\n",
        "print(\"Number of states: \", env.Ns)\n",
        "print(\"Number of actions: \", env.Na)\n",
        "print(\"P has shape: \", env.P.shape)  # P[s, a, s'] = env.P[s, a, s']\n",
        "print(\"discount factor: \", env.gamma)\n",
        "print(\"\")\n",
        "\n",
        "# Usefult methods\n",
        "state = env.reset() # get initial state\n",
        "print(\"initial state: \", state)\n",
        "print(\"reward at (s=1, a=3,s'=2): \", env.reward_func(1,3,2))\n",
        "print(\"\")\n",
        "\n",
        "# A random policy\n",
        "policy = np.random.randint(env.Na, size = (env.Ns,))\n",
        "print(\"random policy = \", policy)\n",
        "\n",
        "# Interacting with the environment\n",
        "print(\"(s, a, s', r):\")\n",
        "for time in range(4):\n",
        "    action = policy[state]\n",
        "    next_state, reward, done, info = env.step(action)\n",
        "    print(state, action, next_state, reward)\n",
        "    if done:\n",
        "        break\n",
        "    state = next_state\n",
        "print(\"\")"
      ],
      "execution_count": 0,
      "outputs": []
    },
    {
      "cell_type": "markdown",
      "metadata": {
        "colab_type": "text",
        "id": "AUlNvT3cOPfx"
      },
      "source": [
        "## Question 1: Value iteration\n",
        "1. Write a function applying the optimal Bellman operator on a provided Q function: $Q_1 = LQ_0, \\; Q_0\\in \\mathbb{R}^{S\\times A}$\n",
        "2. Write a function implementing Value Iteration (VI) with $\\infty$-norm stopping condition (reuse function implemented in 1)\n",
        "3. Evaluate the convergence of your estimate, i.e., plot the value $\\|V_n - V^\\star\\|_{\\infty}$"
      ]
    },
    {
      "cell_type": "code",
      "metadata": {
        "colab_type": "code",
        "id": "R8TLRx6MOPfy",
        "colab": {}
      },
      "source": [
        "# --------------\n",
        "# Point 1\n",
        "# --------------\n",
        "def bellman_operator(Q0, Ns, Na, R, P,gamma):\n",
        "    ''' \n",
        "    Q0: initial matrix\n",
        "    Ns: number of states\n",
        "    Na: number of actions\n",
        "    R: reward matrix\n",
        "    P: policy matrix\n",
        "    Greedy_policy: optimal bellman operator\n",
        "    '''\n",
        "    max_Q=np.max(Q0,axis=1)\n",
        "    R_2d= np.sum(P*R, axis=2)\n",
        "    Q1=R_2d+gamma*np.dot(P,max_Q)\n",
        "    greedy_policy=np.argmax(Q1, axis=1)    \n",
        "    return Q1, greedy_policy"
      ],
      "execution_count": 0,
      "outputs": []
    },
    {
      "cell_type": "code",
      "metadata": {
        "colab_type": "code",
        "id": "jj65cQk5OPf0",
        "colab": {}
      },
      "source": [
        "# --------------\n",
        "# Point 2\n",
        "# --------------\n",
        "def value_iteration(Q0, env, epsilon=1e-5):\n",
        "    Q_history=[Q0]\n",
        "    condition = True \n",
        "    while condition :\n",
        "        Ns,Na,R,P= env.Ns, env.Na,env.R, env.P\n",
        "        Q, greedy_policy=bellman_operator(Q_history[-1], Ns, Na, R, P,env.gamma)\n",
        "        condition=np.linalg.norm(Q-Q_history[-1],ord=np.inf)> epsilon\n",
        "        Q_history.append(Q)\n",
        "    # TODO (feel free to change the return argument\n",
        "    return Q, greedy_policy, Q_history"
      ],
      "execution_count": 0,
      "outputs": []
    },
    {
      "cell_type": "code",
      "metadata": {
        "colab_type": "code",
        "id": "W_lBe6q6OPf2",
        "colab": {}
      },
      "source": [
        "# --------------\n",
        "# Point 3\n",
        "# --------------\n",
        "with open(\"./mvarl_hands_on/data/Q_opts.json\", \"r\") as fp:\n",
        "    Qopts = json.load(fp)\n",
        "Qstar = Qopts[\"{}_{}\".format(type(env).__name__,env.gamma)]\n",
        "\n",
        "Q0=np.zeros(np.shape(Qstar))\n",
        " \n",
        "Q, greedy_policy, Q_history = value_iteration(Q0, env)\n",
        "\n",
        "norm_values=[np.linalg.norm(Q-Qstar,np.inf) for Q in Q_history]\n",
        "\n",
        "max_values=[np.max(Q-Qstar) for Q in Q_history]\n",
        "\n",
        "# TODO\n",
        "\n",
        "plt.plot(norm_values)\n",
        "plt.xlabel('Iteration')\n",
        "plt.ylabel('Error')\n",
        "plt.title(\"Q-learning: Convergence of Q ($infinity$ norm)\")\n",
        "plt.show()\n",
        "\n",
        "plt.plot(max_values)\n",
        "plt.xlabel('Iteration')\n",
        "plt.ylabel('max Error')\n",
        "plt.title(\"Q-learning: Convergence of Q (max error)\")\n",
        "plt.show()\n"
      ],
      "execution_count": 0,
      "outputs": []
    },
    {
      "cell_type": "code",
      "metadata": {
        "colab_type": "code",
        "id": "FbzFs3tDvcJy",
        "colab": {}
      },
      "source": [
        "state = env.reset()\n",
        "env.render()\n",
        "for i in range(50):\n",
        "    action = greedy_policy[state]\n",
        "    state, reward, done, _ = env.step(action)\n",
        "    env.render()"
      ],
      "execution_count": 0,
      "outputs": []
    },
    {
      "cell_type": "markdown",
      "metadata": {
        "colab_type": "text",
        "id": "azfXmRzZOPf4"
      },
      "source": [
        "## Question 2: Q learning\n",
        "Q learning is a model-free algorithm for estimating the optimal Q-function online.\n",
        "It is an off-policy algorithm since the samples are collected with a policy that is (potentially) not the one associated to the estimated Q-function.\n",
        "\n",
        "1. Implement Q learning with $\\epsilon$-greedy exploration.\n",
        "  - Plot the error in Q-functions over iterations\n",
        "  - Plot the cumulative sum of rewards"
      ]
    },
    {
      "cell_type": "code",
      "metadata": {
        "colab_type": "code",
        "id": "_t3WqIt-OPf5",
        "colab": {}
      },
      "source": [
        "# ---------------------------\n",
        "# Q-Learning\n",
        "# ---------------------------\n",
        "# suggested interface\n",
        "# you can change it!\n",
        "class QLearning:\n",
        "    \"\"\"\n",
        "    Q learning with epsilon-greedy exploration\n",
        "    \"\"\"\n",
        "    def __init__(self,env,Q0,state):\n",
        "        self.env=env\n",
        "        self.Q=Q0\n",
        "        self.state=state\n",
        "        self.alpha=None\n",
        "        self.count_states=1\n",
        "        pass\n",
        "    \n",
        "    def sample_action(self, state, greedy):\n",
        "        # best_action = random_action*(1-epsilon)+ greedy_action*epsilon\n",
        "        #####\n",
        "        epsilon=0.3\n",
        "        action1=np.max(greedy[state])\n",
        "        action2= np.random.choice(self.env.actions)\n",
        "        theta = np.random.binomial(1,1-epsilon)\n",
        "        best_action = action1 * theta + action2 * (1-theta)\n",
        "        return best_action\n",
        "        \n",
        "        \n",
        "    def update(self, state, action, next_state, reward):\n",
        "        delta=reward+ np.max(self.Q[next_state][:])-self.Q[state][action]\n",
        "        self.count_states+=1\n",
        "        self.alpha=1./(self.count_states)\n",
        "        self.Q = self.Q + self.alpha * delta \n",
        "        self.state = np.argmax(self.Q,axis=0)\n",
        "        "
      ],
      "execution_count": 0,
      "outputs": []
    },
    {
      "cell_type": "code",
      "metadata": {
        "colab_type": "code",
        "id": "CKTc5nWIOPf6",
        "colab": {}
      },
      "source": [
        "\n",
        "\n",
        "# --------------\n",
        "# Point 1\n",
        "# --------------\n",
        "# Number of Q learning steps\n",
        "max_steps = int(1e5)  \n",
        "# max_steps = 10\n",
        "\n",
        "Q0 = np.zeros((env.Ns, env.Na))\n",
        "# Use the previous code to verify the correctness of q learning\n",
        "Q_opt, pi_opt,_ = value_iteration(Q0, env, epsilon=1e-8)\n",
        "\n",
        "\n",
        "# main algorithmic loop\n",
        "norm_values = []\n",
        "t = 0\n",
        "s0=0\n",
        "ql=QLearning(env,Q0,s0)\n",
        "\n",
        "while t < max_steps:\n",
        "    action =ql.sample_action(state, greedy_policy) \n",
        "    observation, reward, done, info = env.step(action)\n",
        "    norm_values.append(np.abs(ql.Q - Q_opt).mean())\n",
        "    ### update the Q function\n",
        "    next_state = observation\n",
        "    ql.update(state, action, next_state, reward)\n",
        "    # todo do something\n",
        "    t = t + 1\n",
        "\n",
        "print(env.render())\n",
        "print(\"optimal policy: \", pi_opt)\n",
        "greedy_policy = np.argmax(ql.Q, axis=1)\n",
        "print(\"best policy:\", greedy_policy)\n",
        "\n",
        "\n",
        "plt.plot(norm_values)\n",
        "plt.xlabel('Iteration')\n",
        "plt.ylabel('Error')\n",
        "plt.title(\"Q-learning: Convergence of Q\")\n",
        "\n",
        "# how confident are you in the performance of the algorithm? maybe a single run is not enough"
      ],
      "execution_count": 0,
      "outputs": []
    },
    {
      "cell_type": "code",
      "metadata": {
        "id": "jtTK4karrE_i",
        "colab_type": "code",
        "colab": {}
      },
      "source": [
        ""
      ],
      "execution_count": 0,
      "outputs": []
    }
  ]
}